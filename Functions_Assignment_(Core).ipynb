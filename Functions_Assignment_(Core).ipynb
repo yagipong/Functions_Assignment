{
  "nbformat": 4,
  "nbformat_minor": 0,
  "metadata": {
    "colab": {
      "provenance": [],
      "collapsed_sections": [],
      "toc_visible": true,
      "include_colab_link": true
    },
    "kernelspec": {
      "name": "python3",
      "display_name": "Python 3"
    },
    "language_info": {
      "name": "python"
    }
  },
  "cells": [
    {
      "cell_type": "markdown",
      "metadata": {
        "id": "view-in-github",
        "colab_type": "text"
      },
      "source": [
        "<a href=\"https://colab.research.google.com/github/yagipong/Functions_Assignment/blob/main/Functions_Assignment_(Core).ipynb\" target=\"_parent\"><img src=\"https://colab.research.google.com/assets/colab-badge.svg\" alt=\"Open In Colab\"/></a>"
      ]
    },
    {
      "cell_type": "markdown",
      "source": [
        "# Functions Assignment (Core) v2\n"
      ],
      "metadata": {
        "id": "XGvUsUJ52ggF"
      }
    },
    {
      "cell_type": "markdown",
      "source": [
        "- Name: "
      ],
      "metadata": {
        "id": "Dpy87G0O2joF"
      }
    },
    {
      "cell_type": "markdown",
      "source": [
        "# 👩‍🏫 Summarizing ice cream sales data 📈 \n"
      ],
      "metadata": {
        "id": "jOePcaF_dlTB"
      }
    },
    {
      "cell_type": "markdown",
      "source": [
        "\n",
        "In this assignment you will be working with sales data by date. The first cells will create the data and your tasks will be analyze it and organize it using loops, conditionals, lists, dictionaries and of course Functions."
      ],
      "metadata": {
        "id": "IIqSTcv62bwU"
      }
    },
    {
      "cell_type": "markdown",
      "source": [
        "## Ice Cream Sales Data\n"
      ],
      "metadata": {
        "id": "4qCHuR323Ylj"
      }
    },
    {
      "cell_type": "markdown",
      "source": [
        "\n",
        "For the next three questions, you will be working on the dictionary created in the following cell.\n",
        "\n",
        "This cell will create a dictionary for all sales in 2021 that includes every month. Each month will contain the flavors of ice cream sold.\n",
        "\n",
        "The data structure will be lists within a dictionary.  \n",
        "\n",
        "The top layer is a dictionary with months as keys and list of sales for each month as values.\n",
        "\n",
        "The inner layer will be a list of the names of flavors sold ( chocolate, mango, or vanilla).\n",
        "\n",
        "**Notice that there are two functions below that create the dictionary.  `create_monthly_sales()` is a helper function that `create_sales_data()` can use to create data for each month in the dataset.  Functions are often used inside other functions in Python.**"
      ],
      "metadata": {
        "id": "RN9rRvIeHbTl"
      }
    },
    {
      "cell_type": "code",
      "source": [
        "## RUN THIS CELL WITHOUT CHANGES\n",
        "# We will create a dictionary of months where each key is a month and each\n",
        "# Value will a list of flavors sold.\n",
        "import numpy as np\n",
        "import random\n",
        "random.seed(53)\n",
        "np.random.seed(53)\n",
        "\n",
        "# List of months\n",
        "months = ['Jan','Feb','Mar','Apr','May','Jun','Jul','Aug','Sept','Oct','Nov','Dec']\n",
        "\n",
        "# 100 sales per month\n",
        "n_sales = list(range(30,100))\n",
        "\n",
        "# list of flavors\n",
        "flavors = ['vanilla','chocolate','mango']\n",
        "\n",
        "\n",
        "def create_monthly_sales(n_sales, flavors):\n",
        "  \"\"\"Creates a list of monthly sales \n",
        "  \"\"\"\n",
        "\n",
        "  # create an empty monthly list of sales\n",
        "  month_sales = []\n",
        "  \n",
        "  # Loop through sales ideas\n",
        "  for sale_id in range(n_sales):\n",
        "  \n",
        "    # assign a random flavor sold for that sale from the list of flavors\n",
        "    i = random.randint(0, len(flavors) - 1)\n",
        "  \n",
        "    # add the flavor to the dictionary of monthly_sales\n",
        "    month_sales.append(flavors[i])\n",
        "\n",
        "  return month_sales\n",
        "\n",
        "\n",
        "\n",
        "def create_sales_data(months, flavors, n_sales):\n",
        "  \"\"\"create a dictionary of sales by month.  The keys will be months\n",
        "  and each value will be a dictionary of sales for that month\"\"\"\n",
        "\n",
        "  # Create an empty list of sales\n",
        "  sales = {}\n",
        "  \n",
        "  # Loop through the months\n",
        "  for month in months:\n",
        "  \n",
        "    # For each month, use a helper function to create a dictionary of \n",
        "    # sales for the month\n",
        "    n = np.random.choice(n_sales)\n",
        "    # keys of each dictionary will be a sale_id and values will be a flavor sold\n",
        "    # add the dictionary of sales for this month to the sales dictionary\n",
        "    sales[month] = create_monthly_sales(n, flavors)\n",
        "  \n",
        "  # return the dictionary of sales\n",
        "  return sales\n",
        "\n",
        "\n",
        "\n",
        "# inpect the dictionary.  Notice there are 12 dictionaries inside the sales\n",
        "# dictionary.  one dictionary for each month.\n",
        "sales = create_sales_data(months, flavors, n_sales)\n",
        "sales.keys()"
      ],
      "metadata": {
        "id": "8_SjmFxGCz_G",
        "colab": {
          "base_uri": "https://localhost:8080/"
        },
        "outputId": "65e2f580-7eb5-4394-91d6-c95792688082"
      },
      "execution_count": null,
      "outputs": [
        {
          "output_type": "execute_result",
          "data": {
            "text/plain": [
              "dict_keys(['Jan', 'Feb', 'Mar', 'Apr', 'May', 'Jun', 'Jul', 'Aug', 'Sept', 'Oct', 'Nov', 'Dec'])"
            ]
          },
          "metadata": {},
          "execution_count": 107
        }
      ]
    },
    {
      "cell_type": "code",
      "source": [
        "## What type of data is stored for each month?\n",
        "print(type(sales[\"Jan\"]))\n",
        "\n",
        "# Preview the first 5 entries\n",
        "sales['Jan'][:5]"
      ],
      "metadata": {
        "id": "g7Nr9KmIIJb2",
        "colab": {
          "base_uri": "https://localhost:8080/"
        },
        "outputId": "a9a1368f-da47-4c4d-904e-a03e56437a49"
      },
      "execution_count": null,
      "outputs": [
        {
          "output_type": "stream",
          "name": "stdout",
          "text": [
            "<class 'list'>\n"
          ]
        },
        {
          "output_type": "execute_result",
          "data": {
            "text/plain": [
              "['mango', 'vanilla', 'chocolate', 'mango', 'mango']"
            ]
          },
          "metadata": {},
          "execution_count": 108
        }
      ]
    },
    {
      "cell_type": "markdown",
      "source": [
        "## Task 1:\n"
      ],
      "metadata": {
        "id": "SDQSfHtaBfXA"
      }
    },
    {
      "cell_type": "markdown",
      "source": [
        "\n",
        "- Write a function that will take 1 month's data and return a dictionary with the name of each unique item sold as the key and the # of times it was sold that month. \n",
        "\n",
        "- Test it using month = \"Jan\"\n",
        "e.g. `{'mango': 15, 'vanilla': 16, 'chocolate': 13}`:\n",
        "\n",
        "\n",
        "#### Hint -  checking if a key already exists in a dictionary \n",
        "- You can use the `in` operator to check if a key is in the dicationary.\n",
        "\n",
        "```python\n",
        "foods_purchased = {'vanilla':1}\n",
        "item_name = \"mango\"\n",
        "\n",
        "item_name in foods_purchased\n",
        "```\n",
        "`False`\n",
        "\n",
        "\n",
        "```python \n",
        "item_name = \"vanilla\"\n",
        "item_name in foods_purchased\n",
        "```\n",
        "`True`\n",
        "\n",
        "\n",
        "##### Additional Tip:\n",
        "- If you combine this with an if/else statement you can check **if** a key already exists and if it exists, you can update its value. If it doesn't exist (**else**) create the key and fill in the value.\n",
        "\n",
        "\n",
        "```python\n",
        "foods_purchased = {'vanilla':1}\n",
        "item = \"mango\"\n",
        "if item in foods_purchased:\n",
        "  foods_purchased[item]+=1\n",
        "\n",
        "else:\n",
        "  foods_purchased[item] = 1\n",
        "```\n",
        "\n",
        "\n"
      ],
      "metadata": {
        "id": "XIjCszGiCc90"
      }
    },
    {
      "cell_type": "markdown",
      "source": [
        "> Note: if you'd prefer to write the function with the scaffolding in the comments below, feel free to delete them and start with a blank code cell instead."
      ],
      "metadata": {
        "id": "0WANrSmyPVM5"
      }
    },
    {
      "cell_type": "code",
      "source": [
        "# define your function here\n",
        "def a_month_sales(sales):\n",
        "\n",
        "  # start an empty dictionary to save your flavor counts\n",
        "  counts = {}\n",
        "  # for each item in the the list\n",
        "  for flavors in sales:\n",
        "\n",
        "    ## check if the item is in the dictionary,\n",
        "    # if it already exists:\n",
        "    if flavors in counts:\n",
        "      \n",
        "      # increment the value by 1\n",
        "      counts[flavors] += 1\n",
        "\n",
        "    # if it does NOT exist yet:\n",
        "    else:\n",
        "      # add the item as a new key with a value = 1\n",
        "      counts[flavors] = 1\n",
        "\n",
        "\n",
        "  # return the final results \n",
        "  return counts\n",
        "    "
      ],
      "metadata": {
        "id": "ly-w7-Qh__YD"
      },
      "execution_count": null,
      "outputs": []
    },
    {
      "cell_type": "code",
      "source": [
        "# slice out the values stored under \"Jan\"\n",
        "test = sales[\"Jan\"]\n",
        "# Use the values sliced from Jan to test your function.\n",
        "a_month_sales(test)"
      ],
      "metadata": {
        "id": "2Spd6d4kACDN",
        "colab": {
          "base_uri": "https://localhost:8080/"
        },
        "outputId": "45262e16-6673-451d-f8df-b325a549fa37"
      },
      "execution_count": null,
      "outputs": [
        {
          "output_type": "execute_result",
          "data": {
            "text/plain": [
              "{'mango': 17, 'vanilla': 20, 'chocolate': 18}"
            ]
          },
          "metadata": {},
          "execution_count": 124
        }
      ]
    },
    {
      "cell_type": "markdown",
      "source": [
        "If you got \"{'mango': 17, 'vanilla': 20, 'chocolate': 18}\" then great work!"
      ],
      "metadata": {
        "id": "0m55o1v-BOuJ"
      }
    },
    {
      "cell_type": "markdown",
      "source": [
        "\n",
        "\n",
        "## Task 2:\n"
      ],
      "metadata": {
        "id": "QmDyO5yaTLl2"
      }
    },
    {
      "cell_type": "markdown",
      "source": [
        "Now that we have a helper function that can calculate the total number of items sold in one month, let's write a for loop that can loop through our sales dictionary and print out this information in an easy to read manner.\n",
        "\n",
        "\n",
        "\n",
        "We want our loop to:\n",
        "\n",
        "- [ ] Loop through the keys of our `sales` dictionary (the month names).\n",
        "\n",
        "\n",
        "- [ ] Print the month name. Even better would be to use an f-string to print (`\"For {month_name}:\"`)\n",
        "\n",
        "\n",
        "- [ ] Slice out the list of flavors for the current monnth from the `sales` dictionary.\n",
        "\n",
        "\n",
        "- [ ] Use our function to get the counts dictionary with the # of each flavor sold that month.\n",
        "\n",
        "\n",
        "- [ ] Print flavor counts dictionary\n",
        "\n",
        "\n",
        "\n",
        "The output of your loop should look something like this (note: the actual counts for each flavor may not necessarily match the example below: \n",
        "  ```\n",
        "  For Jan:\n",
        "  {'mango': 17, 'vanilla':20,'chocolate':18}\n",
        "\n",
        "  For Feb:\n",
        "  {'mango':23,'vanilla':12,'chocolate':23}\n",
        "\n",
        "  #... etc\n",
        "  ```\n"
      ],
      "metadata": {
        "id": "SrzTj3RjCeOh"
      }
    },
    {
      "cell_type": "markdown",
      "source": [
        "\n",
        "- Create your for loop below:\n"
      ],
      "metadata": {
        "id": "3Pa_W0IZEiMK"
      }
    },
    {
      "cell_type": "markdown",
      "source": [
        "\n",
        "> Note: if you'd prefer to write the function with the scaffolding in the comments below, feel free to delete them and start with a blank code cell instead.\n",
        "\n",
        "\n"
      ],
      "metadata": {
        "id": "sxBE2Yq3Pznh"
      }
    },
    {
      "cell_type": "code",
      "source": [
        "# Create your for loop here.\n",
        "\n",
        "# loop through the sales dict\n",
        "for months in sales:\n",
        "\n",
        "  # print the month name\n",
        "  print(f\"For {months}:\")\n",
        "\n",
        "  # slice out the month's sales data (list of flavors)\n",
        "  test = sales[months]\n",
        "\n",
        "  # use your function to get the flavor counts dict\n",
        "  a_month_sales(test)\n",
        "\n",
        "  # print the flavor counts dict\n",
        "  print(a_month_sales(test))\n",
        "  # print an extra empty line for readability\n",
        "  print(\"\\n\")"
      ],
      "metadata": {
        "id": "z45948fyDuzi",
        "colab": {
          "base_uri": "https://localhost:8080/"
        },
        "outputId": "cfc2be82-e065-4f45-f803-2e466725e34e"
      },
      "execution_count": null,
      "outputs": [
        {
          "output_type": "stream",
          "name": "stdout",
          "text": [
            "For Jan:\n",
            "{'mango': 17, 'vanilla': 20, 'chocolate': 18}\n",
            "\n",
            "\n",
            "For Feb:\n",
            "{'chocolate': 23, 'mango': 13, 'vanilla': 23}\n",
            "\n",
            "\n",
            "For Mar:\n",
            "{'chocolate': 22, 'vanilla': 20, 'mango': 25}\n",
            "\n",
            "\n",
            "For Apr:\n",
            "{'chocolate': 30, 'vanilla': 28, 'mango': 33}\n",
            "\n",
            "\n",
            "For May:\n",
            "{'mango': 14, 'chocolate': 19, 'vanilla': 19}\n",
            "\n",
            "\n",
            "For Jun:\n",
            "{'vanilla': 33, 'chocolate': 38, 'mango': 22}\n",
            "\n",
            "\n",
            "For Jul:\n",
            "{'vanilla': 23, 'chocolate': 29, 'mango': 26}\n",
            "\n",
            "\n",
            "For Aug:\n",
            "{'mango': 31, 'vanilla': 32, 'chocolate': 25}\n",
            "\n",
            "\n",
            "For Sept:\n",
            "{'vanilla': 15, 'chocolate': 14, 'mango': 13}\n",
            "\n",
            "\n",
            "For Oct:\n",
            "{'vanilla': 16, 'chocolate': 10, 'mango': 13}\n",
            "\n",
            "\n",
            "For Nov:\n",
            "{'vanilla': 33, 'chocolate': 28, 'mango': 27}\n",
            "\n",
            "\n",
            "For Dec:\n",
            "{'chocolate': 26, 'mango': 36, 'vanilla': 37}\n",
            "\n",
            "\n"
          ]
        }
      ]
    },
    {
      "cell_type": "markdown",
      "source": [
        "# Congratulations!\n",
        "\n",
        "Your boss at the Ice Cream Store is very pleased with your code and has been making regular use of your functions and loops to create his sales reports.  Nice work!"
      ],
      "metadata": {
        "id": "Ce9YIzspgEpe"
      }
    }
  ]
}